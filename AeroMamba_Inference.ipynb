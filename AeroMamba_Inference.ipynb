{
  "nbformat": 4,
  "nbformat_minor": 0,
  "metadata": {
    "colab": {
      "private_outputs": true,
      "provenance": [],
      "gpuType": "T4",
      "authorship_tag": "ABX9TyPjwjr8If3vNrW4EhfSIxsX",
      "include_colab_link": true
    },
    "kernelspec": {
      "name": "python3",
      "display_name": "Python 3"
    },
    "language_info": {
      "name": "python"
    },
    "accelerator": "GPU"
  },
  "cells": [
    {
      "cell_type": "markdown",
      "metadata": {
        "id": "view-in-github",
        "colab_type": "text"
      },
      "source": [
        "<a href=\"https://colab.research.google.com/github/chynggi/aeromamba-pytorch2/blob/main/AeroMamba_Inference.ipynb\" target=\"_parent\"><img src=\"https://colab.research.google.com/assets/colab-badge.svg\" alt=\"Open In Colab\"/></a>"
      ]
    },
    {
      "cell_type": "code",
      "source": [
        "from google.colab import drive\n",
        "drive.mount('/content/drive')"
      ],
      "metadata": {
        "id": "vv_P6-gYlpjT"
      },
      "execution_count": null,
      "outputs": []
    },
    {
      "cell_type": "code",
      "execution_count": null,
      "metadata": {
        "id": "xbmNjfNzhPRD"
      },
      "outputs": [],
      "source": [
        "!git clone https://github.com/chynggi/aeromamba-pytorch2"
      ]
    },
    {
      "cell_type": "code",
      "source": [
        "%cd /content/aeromamba-pytorch2\n",
        "!pip install https://github.com/state-spaces/mamba/releases/download/v2.2.5/mamba_ssm-2.2.5+cu12torch2.8cxx11abiTRUE-cp312-cp312-linux_x86_64.whl\n",
        "!pip install https://github.com/Dao-AILab/causal-conv1d/releases/download/v1.5.2/causal_conv1d-1.5.2+cu12torch2.8cxx11abiTRUE-cp312-cp312-linux_x86_64.whl\n",
        "!pip install -r requirements.txt"
      ],
      "metadata": {
        "id": "2n0RfccuhSAd"
      },
      "execution_count": null,
      "outputs": []
    },
    {
      "cell_type": "code",
      "source": [
        "!mkdir /content/aeromamba-pytorch2/checkpoint\n",
        "!wget https://huggingface.co/innova-ai/AEROMamba/resolve/main/checkpoint.th -P /content/aeromamba-pytorch2/checkpoint"
      ],
      "metadata": {
        "id": "sZqH3VAZhsjw"
      },
      "execution_count": null,
      "outputs": []
    },
    {
      "cell_type": "code",
      "source": [
        "#@markdown # Separation\n",
        "#@markdown #### Folder config:\n",
        "input_folder = '/content/drive/MyDrive/input/SR/125' #@param {type:\"string\"}\n",
        "output_folder = '/content/drive/MyDrive/output/SR' #@param {type:\"string\"}\n",
        "\n",
        "!python predict_batch_with_ola.py dset=musdb experiment=aeromamba \\\n",
        "  +folder_path='{input_folder}' \\\n",
        "  +output='{output_folder}' \\\n",
        "  ++checkpoint_file=/content/aeromamba-pytorch2/checkpoint/checkpoint.th"
      ],
      "metadata": {
        "id": "zlXpaaYvhczs"
      },
      "execution_count": null,
      "outputs": []
    }
  ]
}